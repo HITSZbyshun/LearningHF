{
 "cells": [
  {
   "cell_type": "code",
   "execution_count": 4,
   "id": "324af609",
   "metadata": {},
   "outputs": [],
   "source": [
    "import IPython\n",
    "import soundfile as sf\n",
    "\n",
    "def play_audio(audio_path):\n",
    "    sf.write(\"speech_converted.wav\", audio.numpy(), sample_rate=16000)\n",
    "    return IPython.display.Audio(\"speech_converted.wav\")"
   ]
  },
  {
   "cell_type": "code",
   "execution_count": 5,
   "id": "161bf828",
   "metadata": {},
   "outputs": [
    {
     "data": {
      "application/vnd.jupyter.widget-view+json": {
       "model_id": "41ceef7e025c4f9f81010e7560920b50",
       "version_major": 2,
       "version_minor": 0
      },
      "text/plain": [
       "VBox(children=(HTML(value='<center> <img\\nsrc=https://huggingface.co/front/assets/huggingface_logo-noborder.sv…"
      ]
     },
     "metadata": {},
     "output_type": "display_data"
    }
   ],
   "source": [
    "from huggingface_hub import notebook_login    \n",
    "notebook_login()"
   ]
  },
  {
   "cell_type": "code",
   "execution_count": null,
   "id": "d2e43960",
   "metadata": {},
   "outputs": [
    {
     "ename": "AttributeError",
     "evalue": "'HfAgent' object has no attribute 'system_prompt_template'",
     "output_type": "error",
     "traceback": [
      "\u001b[0;31m---------------------------------------------------------------------------\u001b[0m",
      "\u001b[0;31mAttributeError\u001b[0m                            Traceback (most recent call last)",
      "Cell \u001b[0;32mIn[11], line 9\u001b[0m\n\u001b[1;32m      4\u001b[0m agent \u001b[38;5;241m=\u001b[39m HfAgent(\u001b[38;5;124m\"\u001b[39m\u001b[38;5;124mhttps://api-inference.huggingface.co/models/bigcode/starcoder\u001b[39m\u001b[38;5;124m\"\u001b[39m)\n\u001b[1;32m      5\u001b[0m \u001b[38;5;66;03m# StarcoderBase\u001b[39;00m\n\u001b[1;32m      6\u001b[0m \u001b[38;5;66;03m# agent = HfAgent(\"https://api-inference.huggingface.co/models/bigcode/starcoderbase\")\u001b[39;00m\n\u001b[1;32m      7\u001b[0m \u001b[38;5;66;03m# OpenAssistant\u001b[39;00m\n\u001b[1;32m      8\u001b[0m \u001b[38;5;66;03m# agent = HfAgent(url_endpoint=\"https://api-inference.huggingface.co/models/OpenAssistant/oasst-sft-4-pythia-12b-epoch-3.5\")\u001b[39;00m\n\u001b[0;32m----> 9\u001b[0m \u001b[38;5;28mprint\u001b[39m(\u001b[43magent\u001b[49m\u001b[38;5;241;43m.\u001b[39;49m\u001b[43msystem_prompt_template\u001b[49m)\n\u001b[1;32m     11\u001b[0m boat \u001b[38;5;241m=\u001b[39m agent\u001b[38;5;241m.\u001b[39mrun(\u001b[38;5;124m\"\u001b[39m\u001b[38;5;124mGenerate an image of a boat in the water\u001b[39m\u001b[38;5;124m\"\u001b[39m)\n\u001b[1;32m     12\u001b[0m boat\n",
      "\u001b[0;31mAttributeError\u001b[0m: 'HfAgent' object has no attribute 'system_prompt_template'"
     ]
    }
   ],
   "source": [
    "from transformers import HfAgent\n",
    "\n",
    "# Starcoder\n",
    "agent = HfAgent(\"https://api-inference.huggingface.co/models/bigcode/starcoder\")\n",
    "# StarcoderBase\n",
    "# agent = HfAgent(\"https://api-inference.huggingface.co/models/bigcode/starcoderbase\")\n",
    "# OpenAssistant\n",
    "# agent = HfAgent(url_endpoint=\"https://api-inference.huggingface.co/models/OpenAssistant/oasst-sft-4-pythia-12b-epoch-3.5\")\n",
    "\n",
    "\n",
    "boat = agent.run(\"Generate an image of a boat in the water\")\n",
    "boat"
   ]
  }
 ],
 "metadata": {
  "kernelspec": {
   "display_name": "LearningHF",
   "language": "python",
   "name": "python3"
  },
  "language_info": {
   "codemirror_mode": {
    "name": "ipython",
    "version": 3
   },
   "file_extension": ".py",
   "mimetype": "text/x-python",
   "name": "python",
   "nbconvert_exporter": "python",
   "pygments_lexer": "ipython3",
   "version": "3.10.16"
  }
 },
 "nbformat": 4,
 "nbformat_minor": 5
}
